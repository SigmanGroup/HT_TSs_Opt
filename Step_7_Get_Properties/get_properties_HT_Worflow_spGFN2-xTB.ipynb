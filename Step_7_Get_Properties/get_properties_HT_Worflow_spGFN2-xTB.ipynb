{
 "cells": [
  {
   "cell_type": "markdown",
   "id": "6ace26e4",
   "metadata": {},
   "source": [
    "# Imports"
   ]
  },
  {
   "cell_type": "code",
   "execution_count": null,
   "id": "07fca42e",
   "metadata": {
    "ExecuteTime": {
     "end_time": "2024-02-09T18:43:45.071852Z",
     "start_time": "2024-02-09T18:43:43.915401Z"
    },
    "scrolled": false
   },
   "outputs": [],
   "source": [
    "import os,re,sys,pickle,datetime,time,random,itertools,glob\n",
    "import warnings\n",
    "warnings.filterwarnings(\"ignore\")\n",
    "import openpyxl\n",
    "import pandas as pd\n",
    "from rdkit import Chem\n",
    "import numpy as np\n",
    "import get_properties_functions as gp"
   ]
  },
  {
   "cell_type": "markdown",
   "id": "0d4ee4fb",
   "metadata": {},
   "source": [
    "## Import a manually-generated atom mapping dataframe"
   ]
  },
  {
   "cell_type": "code",
   "execution_count": null,
   "id": "f208cacd",
   "metadata": {
    "ExecuteTime": {
     "end_time": "2024-02-09T18:39:44.046466Z",
     "start_time": "2024-02-09T18:39:44.021722Z"
    }
   },
   "outputs": [],
   "source": [
    "atom_map_df = pd.read_excel('TSRE_R_S_atom_map.xlsx','Sheet1',index_col=0,header=0,engine='openpyxl')\n",
    "display(atom_map_df.head())"
   ]
  },
  {
   "cell_type": "markdown",
   "id": "34481000",
   "metadata": {},
   "source": [
    "# Properties to Collect"
   ]
  },
  {
   "cell_type": "code",
   "execution_count": null,
   "id": "02df1acf",
   "metadata": {},
   "outputs": [],
   "source": [
    "#this box has functions to choose from\n",
    "df = atom_map_df\n",
    "\n",
    "#---------------Frontier Orbitals-----------------\n",
    "#E(HOMO), E(LUMO), mu(chemical potential or negative of molecular electronegativity), eta(hardness/softness), omega(electrophilicity index)\n",
    "df = gp.get_frontierorbs(df)\n",
    "\n",
    "#---------------Volume----------------------------\n",
    "#Molar volume\n",
    "#requires the Gaussian keyword = \"volume\" in the .com file\n",
    "df = gp.get_volume(df)\n",
    "\n",
    "#---------------Dipole----------------------------\n",
    "#Total dipole moment magnitude in Debye\n",
    "df = gp.get_dipole(df)\n",
    "\n",
    "#---------------SASA------------------------------\n",
    "#Uses morfeus to calculate sovlent accessible surface area and the volume under the SASA\n",
    "df = gp.get_SASA(df)\n",
    "\n",
    "#---------------Distance--------------------------\n",
    "#distance between 2 atoms\n",
    "dist_list_of_lists = [[\"N1\", \"Ni\"], [\"N2\", \"Ni\"], [\"Ni\", \"C1s\"], [\"Ni\", \"C2s\"], [\"Br\", \"Ni\"], [\"C1s\", \"C2s\"]]\n",
    "df = gp.get_distance(df, dist_list_of_lists)\n",
    "\n",
    "#---------------Angle-----------------------------\n",
    "#angle between 3 atoms\n",
    "angle_list_of_lists = [[\"N1\", \"Ni\", \"N2\"], [\"N1\", \"Ni\", \"C1s\"], [\"N1\", \"Ni\", \"C2s\"], [\"N2\", \"Ni\", \"C1s\"], [\"N2\", \"Ni\", \"C2s\"], [\"C1s\", \"Ni\", \"C2s\"], [\"C1s\", \"Ni\", \"Br\"], [\"C2s\", \"Ni\", \"Br\"], [\"N1\", \"Ni\", \"Br\"], [\"N2\", \"Ni\", \"Br\"]]\n",
    "df = gp.get_angles(df, angle_list_of_lists) \n",
    "\n",
    "#---------------Dihedral--------------------------\n",
    "#dihedral angle between 4 atoms\n",
    "dihedral_list_of_lists = [[\"N1\", \"C1\", \"C4\", \"N2\"], [\"N1\", \"Ni\", \"C2s\", \"H1s\"], [\"N2\", \"Ni\", \"C2s\", \"H1s\"], [\"C1\", \"N1\", \"Ni\", \"C1s\"], [\"C4\", \"N2\", \"Ni\", \"C1s\"]]\n",
    "df = gp.get_dihedral(df, dihedral_list_of_lists) \n",
    "\n",
    "# ---------------Vbur Scan-------------------------\n",
    "#uses morfeus to calculate the buried volume at a series of radii (including hydrogens)\n",
    "#inputs: dataframe, list of atoms, start_radius, end_radius, and step_size\n",
    "#if you only want a single radius, put the same value for start_radius and end_radius (keep step_size > 0)\n",
    "vbur_list = [\"Ni\", \"Br\", \"C1s\", \"C2s\", \"N1\", \"N2\"]\n",
    "df = gp.get_vbur_scan(df, vbur_list, 2, 4, 0.5)\n",
    "\n",
    "#---------------Sterimol morfeus------------------\n",
    "#uses morfeus to calculate Sterimol L, B1, and B5 values\n",
    "#NOTE: this is much faster than the corresponding DBSTEP function (recommendation: use as default/if you don't need Sterimol2Vec)\n",
    "sterimol_list_of_lists = [[\"C2\", \"R1\"], [\"C5\", \"R2\"], [\"N1\", \"Ni\"], [\"N2\", \"Ni\"], [\"Ni\", \"C1s\"], [\"Ni\", \"C2s\"]]\n",
    "df = gp.get_sterimol_morfeus(df, sterimol_list_of_lists) \n",
    "\n",
    "#---------------Buried Sterimol-------------------\n",
    "#uses morfeus to calculate Sterimol L, B1, and B5 values within a given sphere of radius r_buried\n",
    "#atoms outside the sphere + 0.5 vdW radius are deleted and the Sterimol vectors are calculated\n",
    "#for more information: https://kjelljorner.github.io/morfeus/sterimol.html\n",
    "#inputs: dataframe, list of atom pairs, r_buried\n",
    "sterimol_list_of_lists = [[\"C2\", \"R1\"], [\"C5\", \"R2\"], [\"N1\", \"Ni\"], [\"N2\", \"Ni\"], [\"Ni\", \"C1s\"], [\"Ni\", \"C2s\"]]\n",
    "df = gp.get_buried_sterimol(df, sterimol_list_of_lists, 5.0)\n",
    "\n",
    "#---------------Pyramidalization------------------\n",
    "#uses morfeus to calculate pyramidalization based on the 3 atoms in closest proximity to the defined atom\n",
    "#collects values based on two definitions of pyramidalization\n",
    "#details on these values can be found here: https://kjelljorner.github.io/morfeus/pyramidalization.html\n",
    "pyr_list = [\"N1\", \"N2\", \"C1\", \"C4\", \"C1s\", \"C2s\"]\n",
    "df = gp.get_pyramidalization(df, pyr_list)\n",
    "\n",
    "#---------------Hirshfeld-------------------------\n",
    "#Hirshfeld charge, CM5 charge, Hirshfeld atom dipole\n",
    "#requires the Gaussian keyword = \"pop=hirshfeld\" in the .com file\n",
    "a_list = [\"N1\", \"N2\", \"C2\", \"R1\", \"X1\", \"C1\", \"C4\", \"X2\", \"C5\", \"R2\", \"Ni\", \"C1s\", \"C2s\", \"H1s\", \"Br\"]\n",
    "df = gp.get_hirshfeld(df, a_list)\n",
    "\n",
    "pd.options.display.max_columns = None\n",
    "display(df)\n",
    "\n",
    "writer = pd.ExcelWriter('TSRE_R_S_All_Conformer_Properties.xlsx')\n",
    "df.to_excel(writer)\n",
    "writer.save()"
   ]
  },
  {
   "cell_type": "markdown",
   "id": "b2551892",
   "metadata": {},
   "source": [
    "## Save collected properties to Excel"
   ]
  },
  {
   "cell_type": "code",
   "execution_count": null,
   "id": "2b57cd1e",
   "metadata": {
    "ExecuteTime": {
     "end_time": "2024-02-09T18:44:49.110762Z",
     "start_time": "2024-02-09T18:44:49.030576Z"
    }
   },
   "outputs": [],
   "source": [
    "writer = pd.ExcelWriter('TSRE_R_S_All_Conformer_Properties.xlsx')\n",
    "df.to_excel(writer)\n",
    "writer.save()"
   ]
  },
  {
   "cell_type": "markdown",
   "id": "40ba3fdc",
   "metadata": {},
   "source": [
    "# Post-processing"
   ]
  },
  {
   "cell_type": "markdown",
   "id": "d3afca96",
   "metadata": {},
   "source": [
    "## User input for data processing"
   ]
  },
  {
   "cell_type": "code",
   "execution_count": null,
   "id": "e9caca8e",
   "metadata": {
    "ExecuteTime": {
     "end_time": "2024-02-09T18:44:49.358839Z",
     "start_time": "2024-02-09T18:44:49.342827Z"
    }
   },
   "outputs": [],
   "source": [
    "#for numerically named compounds, prefix is any text common to all BEFORE the number and suffix is common to all AFTER the number\n",
    "#this is a template for our files that are all named \"AcXXX_clust-X.log\" or \"AcXXX_conf-X.log\"\n",
    "prefix = \"L0\" \n",
    "suffix = \"_\"\n",
    "\n",
    "#columns that provide atom mapping information are dropped\n",
    "atom_columns_to_drop = [\"R1\", \"C2\", \"N1\", \"C1\", \"C4\", \"N2\", \"X2\", \"C5\", \"R2\", \"X1\", \"Ni\", \"C1s\", \"Br\", \"C2s\", \"H1s\"]\n",
    "\n",
    "#title of the column for the energy you want to use for boltzmann averaging and lowest E conformer determination\n",
    "energy_col_header = \"G(T)_spc(Hartree)\"\n",
    "\n",
    "\n",
    "energy_cutoff = 5.0 #specify energy cutoff in kcal/mol to remove conformers above this value before post-processing\n",
    "verbose = False #set to true if you'd like to see info on the nunmber of conformers removed for each compound"
   ]
  },
  {
   "cell_type": "markdown",
   "id": "f9114d73",
   "metadata": {},
   "source": [
    "### Import an Excel sheet with external properties and energies"
   ]
  },
  {
   "cell_type": "code",
   "execution_count": null,
   "id": "373233c1",
   "metadata": {
    "ExecuteTime": {
     "end_time": "2022-03-18T21:41:18.131523Z",
     "start_time": "2022-03-18T21:41:17.928900Z"
    }
   },
   "outputs": [],
   "source": [
    "df = pd.read_excel('TSRE_R_S_Morfeus_Properties.xlsx','Sheet1',index_col=0,header=0,engine='openpyxl')\n",
    "display(df.head())"
   ]
  },
  {
   "cell_type": "markdown",
   "id": "1762410a",
   "metadata": {},
   "source": [
    "## Generating a list of compounds that have conformational ensembles"
   ]
  },
  {
   "cell_type": "code",
   "execution_count": null,
   "id": "3b9da438",
   "metadata": {
    "ExecuteTime": {
     "end_time": "2024-02-09T18:44:49.615210Z",
     "start_time": "2024-02-09T18:44:49.599224Z"
    }
   },
   "outputs": [],
   "source": [
    "compound_list = []\n",
    "    \n",
    "for index, row in df.iterrows():\n",
    "    log_file = row['log_name'] #read file name from df\n",
    "    prefix_and_compound = log_file.split(str(suffix)) #splits to get \"AcXXX\" (entry O) (and we don't use the \"clust-X\" (entry 1))\n",
    "    compound = prefix_and_compound[0].split(str(prefix)) #splits again to get \"XXX\" (entry 1) (and we don't use the empty string \"\" (entry 0))\n",
    "    compound_list.append(compound[1])\n",
    "\n",
    "compound_list = list(set(compound_list)) #removes duplicate stuctures that result from having conformers of each\n",
    "compound_list.sort() #reorders numerically (not sure if it reorders alphabetically)\n",
    "print(compound_list)\n",
    "\n",
    "#this should generate a list that looks like this: ['24', '27', '34', '48']"
   ]
  },
  {
   "cell_type": "markdown",
   "id": "933362f0",
   "metadata": {},
   "source": [
    "## Post-processing to get properties for each compound"
   ]
  },
  {
   "cell_type": "code",
   "execution_count": null,
   "id": "8c0726fc",
   "metadata": {
    "ExecuteTime": {
     "end_time": "2024-02-09T18:44:50.200225Z",
     "start_time": "2024-02-09T18:44:49.855416Z"
    },
    "scrolled": false
   },
   "outputs": [],
   "source": [
    "all_df_master = pd.DataFrame(columns=[])\n",
    "properties_df_master = pd.DataFrame(columns=[])\n",
    "\n",
    "for compound in compound_list: \n",
    "    #defines the common start to all files using the input above \n",
    "    substring = str(prefix) + str(compound) + str(suffix)\n",
    "    \n",
    "    #makes a data frame for one compound at a time for post-processing\n",
    "    valuesdf = df[df[\"log_name\"].str.startswith(substring)]\n",
    "    valuesdf = valuesdf.drop(columns = atom_columns_to_drop)\n",
    "    valuesdf = valuesdf.reset_index(drop = True)  #you must re-index otherwise the 2nd, 3rd, etc. compounds fail\n",
    "   \n",
    "    #define columns that won't be included in summary properties or are treated differently because they don't make sense to Boltzmann average\n",
    "    non_boltz_columns = [\"G(Hartree)\",\"∆G(Hartree)\",\"∆G(kcal/mol)\", \"e^(-∆G/RT)\",\"Mole Fraction\"] #don't boltzman average columns containing these strings in the column label\n",
    "    reg_avg_columns = ['CPU_time_total(hours)', 'Wall_time_total(hours)'] #don't boltzmann average these either, we average them in case that is helpful\n",
    "    gv_extra_columns = ['E_spc (Hartree)', 'H_spc(Hartree)', 'T', 'T*S', 'T*qh_S', 'ZPE(Hartree)', 'qh_G(T)_spc(Hartree)', \"G(T)_spc(Hartree)\"]\n",
    "    gv_extra_columns.remove(str(energy_col_header))\n",
    "    \n",
    "    #calculate the summary properties based on all conformers (Boltzmann Average, Minimum, Maximum, Boltzmann Weighted Std)\n",
    "    valuesdf[\"∆G(Hartree)\"] = valuesdf[energy_col_header] - valuesdf[energy_col_header].min()\n",
    "    valuesdf[\"∆G(kcal/mol)\"] = valuesdf[\"∆G(Hartree)\"] * 627.5\n",
    "    valuesdf[\"e^(-∆G/RT)\"] = np.exp((valuesdf[\"∆G(kcal/mol)\"] * -1000) / (1.987204 * 298.15)) #R is in cal/(K*mol)\n",
    "    valuesdf[\"Mole Fraction\"] = valuesdf[\"e^(-∆G/RT)\"] / valuesdf[\"e^(-∆G/RT)\"].sum()\n",
    "    initial = len(valuesdf.index)\n",
    "    if verbose: \n",
    "        print(prefix + str(compound))\n",
    "        #display(valuesdf)\n",
    "        print(\"Total number of conformers = \", initial)\n",
    "    valuesdf.drop(valuesdf[valuesdf[\"∆G(kcal/mol)\"] >= energy_cutoff].index, inplace=True) #E cutoff applied here\n",
    "    valuesdf = valuesdf.reset_index(drop = True) #resetting indexes\n",
    "    final = len(valuesdf.index) \n",
    "    if verbose: \n",
    "        print(\"Number of conformers above \", energy_cutoff, \" kcal/mol: \", initial-final)\n",
    "    values_boltz_row = []\n",
    "    values_min_row = []\n",
    "    values_max_row = []\n",
    "    values_boltz_stdev_row =[]\n",
    "    values_range_row = []\n",
    "    values_exclude_columns = []\n",
    "    \n",
    "    for column in valuesdf:\n",
    "        if \"log_name\" in column:\n",
    "            values_boltz_row.append(\"Boltzmann Averages\")\n",
    "            values_min_row.append(\"Ensemble Minimum\")\n",
    "            values_max_row.append(\"Ensemble Maximum\")\n",
    "            values_boltz_stdev_row.append(\"Boltzmann Standard Deviation\")\n",
    "            values_range_row.append(\"Ensemble Range\")\n",
    "            values_exclude_columns.append(column) #used later to build final dataframe\n",
    "        elif any(phrase in column for phrase in non_boltz_columns) or any(phrase in column for phrase in gv_extra_columns):\n",
    "            values_boltz_row.append(\"\")\n",
    "            values_min_row.append(\"\")\n",
    "            values_max_row.append(\"\")\n",
    "            values_boltz_stdev_row.append(\"\")\n",
    "            values_range_row.append(\"\")\n",
    "        elif any(phrase in column for phrase in reg_avg_columns):\n",
    "            values_boltz_row.append(valuesdf[column].mean()) #intended to print the average CPU/wall time in the boltz column\n",
    "            values_min_row.append(\"\")\n",
    "            values_max_row.append(\"\")\n",
    "            values_boltz_stdev_row.append(\"\")\n",
    "            values_range_row.append(\"\")\n",
    "        else:\n",
    "            valuesdf[column] = pd.to_numeric(valuesdf[column]) #to hopefully solve the error that sometimes occurs where the float(Mole Fraction) cannot be mulitplied by the string(property)\n",
    "            values_boltz_row.append((valuesdf[column] * valuesdf[\"Mole Fraction\"]).sum())\n",
    "            values_min_row.append(valuesdf[column].min())\n",
    "            values_max_row.append(valuesdf[column].max())\n",
    "            values_range_row.append(valuesdf[column].max() - valuesdf[column].min())\n",
    "\n",
    "            \n",
    "            # this section generates the weighted std deviation (weighted by mole fraction) \n",
    "            # formula: https://www.statology.org/weighted-standard-deviation-excel/\n",
    "    \n",
    "            boltz = (valuesdf[column] * valuesdf[\"Mole Fraction\"]).sum() #number\n",
    "            delta_values_sq = []\n",
    "    \n",
    "            #makes a list of the \"deviation\" for each conformer           \n",
    "            for index, row in valuesdf.iterrows(): \n",
    "                value = row[column]\n",
    "                delta_value_sq = (value - boltz)**2\n",
    "                delta_values_sq.append(delta_value_sq)\n",
    "            \n",
    "            #w is list of weights (i.e. mole fractions)\n",
    "            w = list(valuesdf[\"Mole Fraction\"])\n",
    "            wstdev = np.sqrt( (np.average(delta_values_sq, weights=w)) / (((len(w)-1)/len(w))*np.sum(w)) )\n",
    "            if len(w) == 1: #if there is only one conformer in the ensemble, set the weighted standard deviation to 0 \n",
    "                wstdev = 0\n",
    "            #np.average(delta_values_sq, weights=w) generates sum of each (delta_value_sq * mole fraction)\n",
    "            \n",
    "            values_boltz_stdev_row.append(wstdev)\n",
    "            \n",
    "            \n",
    "    valuesdf.loc[len(valuesdf)] = values_boltz_row\n",
    "    valuesdf.loc[len(valuesdf)] = values_boltz_stdev_row\n",
    "    valuesdf.loc[len(valuesdf)] = values_min_row\n",
    "    valuesdf.loc[len(valuesdf)] = values_max_row\n",
    "    valuesdf.loc[len(valuesdf)] = values_range_row\n",
    "\n",
    "    #final output format is built here:\n",
    "    explicit_order_front_columns = [\"log_name\", energy_col_header,\"∆G(Hartree)\",\"∆G(kcal/mol)\",\"e^(-∆G/RT)\",\"Mole Fraction\"]\n",
    "    \n",
    "    #reorders the dataframe using front columns defined above\n",
    "    valuesdf = valuesdf[explicit_order_front_columns + [col for col in valuesdf.columns if col not in explicit_order_front_columns and col not in values_exclude_columns]]\n",
    "    \n",
    "    #determine the index of the lowest energy conformer\n",
    "    low_e_index = valuesdf[valuesdf[\"∆G(Hartree)\"] == 0].index.tolist()\n",
    "    \n",
    "    #copy the row to a new_row with the name of the log changed to Lowest E Conformer\n",
    "    new_row = valuesdf.loc[low_e_index[0]]\n",
    "    new_row['log_name'] = \"Lowest E Conformer\"   \n",
    "    valuesdf =  valuesdf.append(new_row, ignore_index=True)\n",
    "\n",
    "#------------------------------EDIT THIS SECTION IF YOU WANT A SPECIFIC CONFORMER----------------------------------  \n",
    "    #if you want all properties for a conformer with a particular property (i.e. all properties for the Vbur_min conformer)\n",
    "    #this template can be adjusted for min/max/etc. \n",
    "    \n",
    "    #find the index for the min or max column:\n",
    "    #ensemble_min_index = valuesdf[valuesdf[\"log_name\"] == \"Ensemble Minimum\"].index.tolist()\n",
    "    \n",
    "    #find the min or max value of the property (based on index above)\n",
    "    #saves the value in a list (min_value) with one entry (this is why we call min_value[0])\n",
    "    #min_value = valuesdf.loc[ensemble_min_index, \"%Vbur_C4_3.0Å\"].tolist()   \n",
    "    #vbur_min_index = valuesdf[valuesdf[\"%Vbur_C4_3.0Å\"] == min_value[0]].index.tolist()\n",
    "    \n",
    "    #copy the row to a new_row with the name of the log changed to Property_min_conformer\n",
    "    #new_row = valuesdf.loc[vbur_min_index[0]]\n",
    "    #new_row['log_name'] = \"%Vbur_C4_3.0Å_min_Conformer\"   \n",
    "    #valuesdf =  valuesdf.append(new_row, ignore_index=True)\n",
    "#--------------------------------------------------------------------------------------------------------------------    \n",
    "    \n",
    "    #appends the frame to the master output\n",
    "    all_df_master = pd.concat([all_df_master, valuesdf])\n",
    "    \n",
    "    #drop all the individual conformers\n",
    "    dropindex = valuesdf[valuesdf[\"log_name\"].str.startswith(substring)].index\n",
    "    valuesdf = valuesdf.drop(dropindex)\n",
    "    valuesdf = valuesdf.reset_index(drop = True)\n",
    "    \n",
    "    #display(valuesdf)   \n",
    "    \n",
    "    #drop the columns created to determine the mole fraction and some that \n",
    "    valuesdf = valuesdf.drop(columns = explicit_order_front_columns)\n",
    "    try:\n",
    "        valuesdf = valuesdf.drop(columns = gv_extra_columns)\n",
    "    except:\n",
    "        pass\n",
    "    try:\n",
    "        valuesdf = valuesdf.drop(columns = reg_avg_columns)\n",
    "    except:\n",
    "        pass\n",
    "        \n",
    "#---------------------THIS MAY NEED TO CHANGE DEPENDING ON HOW YOU LABEL YOUR COMPOUNDS------------------------------  \n",
    "    compound_name = prefix + str(compound) \n",
    "#--------------------------------------------------------------------------------------------------------------------      \n",
    "\n",
    "    properties_df = pd.DataFrame({'Compound_Name': [compound_name]})\n",
    "    \n",
    "    #builds a dataframe (for each compound) by adding summary properties as new columns\n",
    "    for (columnName, columnData) in valuesdf.iteritems():\n",
    "        #the indexes need to match the values dataframe - display it to double check if you need to make changes \n",
    "        #(uncomment the display(valuesdf) in row 124 of this cell)\n",
    "        properties_df[str(columnName) + \"_Boltz\"] = [columnData.values[0]]\n",
    "        properties_df[str(columnName) + \"_Boltz_stdev\"] = [columnData.values[1]]\n",
    "        properties_df[str(columnName) + \"_min\"] = [columnData.values[2]]\n",
    "        properties_df[str(columnName) + \"_max\"] = [columnData.values[3]]\n",
    "        properties_df[str(columnName) + \"_range\"] = [columnData.values[4]]\n",
    "        properties_df[str(columnName) + \"_low_E\"] = [columnData.values[5]]\n",
    "        \n",
    "        #if you're collecting properties for a specific conformer, add these here (note the index)\n",
    "        #example:\n",
    "        #properties_df[str(columnName) + \"_V_bur_min\"] = [columnData.values[6]]\n",
    "        \n",
    "        #if you only want a table with Boltz, you can comment out the other summary properties to generate a Boltz spreadsheet\n",
    "        #of if you don't want to collect range, etc.\n",
    "    #concatenates the individual acid properties df into the master properties df\n",
    "    properties_df_master = pd.concat([properties_df_master, properties_df], axis = 0)\n",
    "\n",
    "all_df_master = all_df_master.reset_index(drop = True)\n",
    "properties_df_master = properties_df_master.reset_index(drop = True)\n"
   ]
  },
  {
   "cell_type": "markdown",
   "id": "13c0d1f2",
   "metadata": {},
   "source": [
    "### Peek at your new dataframes"
   ]
  },
  {
   "cell_type": "code",
   "execution_count": null,
   "id": "e5eff8d3",
   "metadata": {
    "ExecuteTime": {
     "end_time": "2024-02-09T18:44:50.836381Z",
     "start_time": "2024-02-09T18:44:50.774252Z"
    },
    "run_control": {
     "marked": false
    }
   },
   "outputs": [],
   "source": [
    "display(properties_df_master.head())\n",
    "display(all_df_master)"
   ]
  },
  {
   "cell_type": "markdown",
   "id": "c987b2b6",
   "metadata": {},
   "source": [
    "### Save to Microsoft Excelᵀᴹ "
   ]
  },
  {
   "cell_type": "code",
   "execution_count": null,
   "id": "77a6d107",
   "metadata": {
    "ExecuteTime": {
     "end_time": "2024-02-09T18:44:51.557459Z",
     "start_time": "2024-02-09T18:44:51.444212Z"
    },
    "run_control": {
     "marked": false
    }
   },
   "outputs": [],
   "source": [
    "all_df_master.to_excel('TSRE_Conformer_and_Summary_Properties.xlsx', index = False)\n",
    "properties_df_master.to_excel('TSRE_Summary_Properties.xlsx', index = False)"
   ]
  },
  {
   "cell_type": "code",
   "execution_count": null,
   "id": "df892e3e",
   "metadata": {},
   "outputs": [],
   "source": []
  }
 ],
 "metadata": {
  "kernelspec": {
   "display_name": "Python gp",
   "language": "python",
   "name": "gp_linux"
  },
  "language_info": {
   "codemirror_mode": {
    "name": "ipython",
    "version": 3
   },
   "file_extension": ".py",
   "mimetype": "text/x-python",
   "name": "python",
   "nbconvert_exporter": "python",
   "pygments_lexer": "ipython3",
   "version": "3.8.8"
  },
  "toc": {
   "base_numbering": 1,
   "nav_menu": {},
   "number_sections": true,
   "sideBar": true,
   "skip_h1_title": false,
   "title_cell": "Table of Contents",
   "title_sidebar": "Contents",
   "toc_cell": false,
   "toc_position": {
    "height": "calc(100% - 180px)",
    "left": "10px",
    "top": "150px",
    "width": "480px"
   },
   "toc_section_display": true,
   "toc_window_display": true
  },
  "varInspector": {
   "cols": {
    "lenName": 16,
    "lenType": 16,
    "lenVar": 40
   },
   "kernels_config": {
    "python": {
     "delete_cmd_postfix": "",
     "delete_cmd_prefix": "del ",
     "library": "var_list.py",
     "varRefreshCmd": "print(var_dic_list())"
    },
    "r": {
     "delete_cmd_postfix": ") ",
     "delete_cmd_prefix": "rm(",
     "library": "var_list.r",
     "varRefreshCmd": "cat(var_dic_list()) "
    }
   },
   "types_to_exclude": [
    "module",
    "function",
    "builtin_function_or_method",
    "instance",
    "_Feature"
   ],
   "window_display": false
  }
 },
 "nbformat": 4,
 "nbformat_minor": 5
}
